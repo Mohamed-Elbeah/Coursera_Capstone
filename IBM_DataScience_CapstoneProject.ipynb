{
 "cells": [
  {
   "cell_type": "markdown",
   "id": "static-provision",
   "metadata": {},
   "source": [
    "<center>\n",
    "    \n",
    "# IBM Data Science Capstone Project\n",
    "    \n",
    "</center>"
   ]
  },
  {
   "cell_type": "markdown",
   "id": "beginning-store",
   "metadata": {},
   "source": [
    "#### Welcome to Applied Data Science Capstone!\n",
    "This notebook will be mainly used for the capstone project of IBM Data Science"
   ]
  },
  {
   "cell_type": "code",
   "execution_count": 1,
   "id": "japanese-irrigation",
   "metadata": {},
   "outputs": [
    {
     "name": "stdout",
     "output_type": "stream",
     "text": [
      "Hello Capstone Project Course!\n"
     ]
    }
   ],
   "source": [
    "# Import necessary libraries\n",
    "import pandas as pd\n",
    "import numpy as np\n",
    "\n",
    "print(\"Hello Capstone Project Course!\")"
   ]
  },
  {
   "cell_type": "code",
   "execution_count": null,
   "id": "usual-church",
   "metadata": {},
   "outputs": [],
   "source": []
  }
 ],
 "metadata": {
  "kernelspec": {
   "display_name": "Python 3",
   "language": "python",
   "name": "python3"
  },
  "language_info": {
   "codemirror_mode": {
    "name": "ipython",
    "version": 3
   },
   "file_extension": ".py",
   "mimetype": "text/x-python",
   "name": "python",
   "nbconvert_exporter": "python",
   "pygments_lexer": "ipython3",
   "version": "3.8.8"
  }
 },
 "nbformat": 4,
 "nbformat_minor": 5
}
